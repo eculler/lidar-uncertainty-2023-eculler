{
 "cells": [
  {
   "cell_type": "markdown",
   "id": "70911fcc",
   "metadata": {},
   "source": [
    "# LiDAR Uncertainty at SOAP and SJER NEON sites"
   ]
  },
  {
   "cell_type": "markdown",
   "id": "8c46b790",
   "metadata": {},
   "source": [
    "## The SOAP site\n",
    "![Soaproot panorama](https://www.neonscience.org/sites/default/files/styles/he/public/image-content-images/Soaproot_pano.jpg?h=38da9059&itok=XfdBWdLh)\n",
    "Image credit: National Ecological Observation Network, available at https://www.neonscience.org/field-sites/soap"
   ]
  },
  {
   "cell_type": "code",
   "execution_count": null,
   "id": "8de83fba",
   "metadata": {},
   "outputs": [],
   "source": []
  }
 ],
 "metadata": {
  "kernelspec": {
   "display_name": "Python 3 (ipykernel)",
   "language": "python",
   "name": "python3"
  },
  "language_info": {
   "codemirror_mode": {
    "name": "ipython",
    "version": 3
   },
   "file_extension": ".py",
   "mimetype": "text/x-python",
   "name": "python",
   "nbconvert_exporter": "python",
   "pygments_lexer": "ipython3",
   "version": "3.8.12"
  },
  "varInspector": {
   "cols": {
    "lenName": 16,
    "lenType": 16,
    "lenVar": 40
   },
   "kernels_config": {
    "python": {
     "delete_cmd_postfix": "",
     "delete_cmd_prefix": "del ",
     "library": "var_list.py",
     "varRefreshCmd": "print(var_dic_list())"
    },
    "r": {
     "delete_cmd_postfix": ") ",
     "delete_cmd_prefix": "rm(",
     "library": "var_list.r",
     "varRefreshCmd": "cat(var_dic_list()) "
    }
   },
   "types_to_exclude": [
    "module",
    "function",
    "builtin_function_or_method",
    "instance",
    "_Feature"
   ],
   "window_display": false
  }
 },
 "nbformat": 4,
 "nbformat_minor": 5
}
